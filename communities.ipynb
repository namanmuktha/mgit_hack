{
 "cells": [
  {
   "cell_type": "code",
   "execution_count": 1,
   "metadata": {},
   "outputs": [],
   "source": [
    "import firebase_admin\n",
    "from firebase_admin import credentials, db\n",
    "import random\n",
    "import string\n",
    "cred = credentials.Certificate(\"mgit-hack-c6060-firebase-adminsdk-1xvld-2f3c925e75.json\")\n",
    "firebase = firebase_admin.initialize_app(cred)\n",
    "\n",
    "URL = \"https://mgit-hack-c6060-default-rtdb.asia-southeast1.firebasedatabase.app/\"\n",
    "DB = db.reference(path=\"/\", url=URL)\n",
    "\n",
    "\n",
    "class User:\n",
    "    def __init__(self, email, password, age, gender):\n",
    "        self.email = email\n",
    "        self.password = password\n",
    "        self.isAdmin = False\n",
    "        self.age = age\n",
    "        self.gender = gender"
   ]
  },
  {
   "cell_type": "code",
   "execution_count": null,
   "metadata": {},
   "outputs": [],
   "source": [
    "#create  df contains username and results of character\n",
    "def create_empty_df():\n",
    "\n"
   ]
  }
 ],
 "metadata": {
  "kernelspec": {
   "display_name": "Python 3",
   "language": "python",
   "name": "python3"
  },
  "language_info": {
   "codemirror_mode": {
    "name": "ipython",
    "version": 3
   },
   "file_extension": ".py",
   "mimetype": "text/x-python",
   "name": "python",
   "nbconvert_exporter": "python",
   "pygments_lexer": "ipython3",
   "version": "3.11.8"
  }
 },
 "nbformat": 4,
 "nbformat_minor": 2
}
